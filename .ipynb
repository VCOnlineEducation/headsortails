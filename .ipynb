from IPython.core.display import update_display
from IPython.display import display, HTML, Image
import requests
import random
import time
import ipywidgets as widgets

# Define the URLs of the heads and tails images from your Imgur account
heads_url = "https://i.imgur.com/hZvWkNa.png"
tails_url = "https://i.imgur.com/CuT6ftS.png"
coin_flip_url ="https://i.imgur.com/BTCY0Y0.png"
fireworks_url = "https://media.tenor.com/NpJP-aUhyMsAAAAC/winner-win.gif"
background_url = "https://i.imgur.com/zPOhdAI.gif"

# Create the container element
container = widgets.VBox()

# Global variables
background_enabled = False
game_played = False

def get_user_choice(button):
    user_choice = user_entry.value.lower()
    if user_choice in ['heads', 'tails']:
        # Disable user input while the cutscene is playing
        user_entry.disabled = True
        # Play the game after a short delay
        play_game(user_choice, delay=1)
    else:
        user_entry.value = ""  # Clear the user's input
        user_entry.placeholder = "Invalid choice. Please try again."
        time.sleep(0.5)  # Pause execution for 0.5 seconds
        time.sleep(0.5)  # Additional delay before updating placeholder
        user_entry.placeholder = "Enter 'Heads' or 'Tails'"  # Restore the placeholder text

# Define the function to handle user input
def handle_user_input(change):
    if change.new.lower() in ['heads', 'tails']:
        play_game(change.new.lower())

# Add an event listener to the user_entry text widget
user_entry.on_submit(handle_user_input)

# Add a click event handler to the play button
def play_button_clicked(button):
    if user_entry.value.lower() in ['heads', 'tails']:
        play_game(user_entry.value.lower())

play_button.on_click(play_button_clicked)

def play_game(user_choice, delay=0.5):
    global background_enabled, game_played

    # Reset the user and computer labels
    user_label.clear_output()
    computer_label.clear_output()

    # Clear the outputs
    fireworks_left_label.clear_output()
    fireworks_right_label.clear_output()
    coin_toss_label.clear_output()

    # Generate random choice for the computer and control coin
    computer_choice = random.choice(['heads', 'tails'])
    control_choice = random.choice(['heads', 'tails'])

    # Display the cutscene for control coin toss
    with coin_toss_label:
        display(widgets.Label("A coin is being tossed...", style={'font-weight': 'bold', 'text-align': 'center'}))
        display(HTML(f'<div class="coin-flip-cutscene"><img src="{coin_flip_url}" width="200" height="200"></div>'))
        
        # Delay for the cutscene
        time.sleep(delay)  # Delay for the specified duration

        # Clear the cutscene and accompanying text
    coin_toss_label.clear_output()


        # Display the outcome of the control coin toss
    with coin_toss_label:
        display(widgets.Label(f"A coin was tossed and it landed on the '{control_choice.capitalize()}' side", style={'font-weight': 'bold', 'text-align': 'center'}))
        if control_choice == 'heads':
            display(HTML(f'<div class="coin-choice"><img src="{heads_url}" width="200" height="200"></div>'))
        else:
            display(HTML(f'<div class="coin-choice"><img src="{tails_url}" width="200" height="200"></div>'))
    # Display the user's and computer's choices
    with user_label:
        display(widgets.Label(f"You called '{user_choice.capitalize()}'...", style={'font-weight': 'bold', 'text-align': 'center'}))
        if user_choice == 'heads':
            display(HTML(f'<div class="coin-choice"><img src="{heads_url}" width="200" height="200"></div>'))
        else:
            display(HTML(f'<div class="coin-choice"><img src="{tails_url}" width="200" height="200"></div>'))

    with computer_label:
        display(widgets.Label(f"Computer called '{computer_choice.capitalize()}'...", style={'font-weight': 'bold', 'text-align': 'center'}))
        if computer_choice == 'heads':
            display(HTML(f'<div class="coin-choice"><img src="{heads_url}" width="200" height="200"></div>'))
        else:
            display(HTML(f'<div class="coin-choice"><img src="{tails_url}" width="200" height="200"></div>'))

    # Determine the winner
    if user_choice == control_choice and computer_choice != control_choice:
        result_label.value = "You won!!! Let's GOOOO🎉!!!"
        # Display fireworks GIFs
        with fireworks_left_label:
            display(Image(url=fireworks_url))
        with fireworks_right_label:
            display(Image(url=fireworks_url))
        background_enabled = True  # Enable background image
    elif user_choice != control_choice and computer_choice == control_choice:
        result_label.value = "The Computer Won 💻! Play again!"
        background_enabled = False  # Disable background image
    elif user_choice == control_choice and computer_choice == control_choice:
        result_label.value = "You and the computer both called the toss correctly. We Lit🔥❗❗❗ Please play again."
        background_enabled = False  # Disable background image
    else:
        result_label.value = "Neither you, nor the computer called the toss correctly 💀. Please play again."
        background_enabled = False  # Disable background image

    game_played = True

    # Enable user input after the game is played
    user_entry.disabled = False

    # Update the background image
    update_background()

def update_background():
    if background_enabled:
        display(HTML(f"""
        <style>
        .background-layer {{
            background-image: url('{background_url}');
            background-size: cover;
            background-position: center;
            z-index: 2;
        }}
        </style>
        """))
    else:
        display(HTML("""
        <style>
        .background-layer {
            background-image: none;
        }
        </style>
        """))

# Create the GUI components
coin_toss_label = widgets.Output()
user_label = widgets.Output()
user_entry = widgets.Text(placeholder='Enter "Heads" or "Tails"')
play_button = widgets.Button(description="Play")
play_button.on_click(get_user_choice)
computer_label = widgets.Output()
result_label = widgets.Label()
fireworks_left_label = widgets.Output()
fireworks_right_label = widgets.Output()

# Create layout widgets for spacing
fireworks_container_top = widgets.HBox([
    fireworks_left_label,
    fireworks_right_label
])
fireworks_container_bottom = widgets.HBox([
    widgets.Label("", layout=widgets.Layout(width="50%")),
    widgets.Label("", layout=widgets.Layout(width="50%"))
])
spacing_left = widgets.VBox([widgets.Label("", layout=widgets.Layout(height="50%")), fireworks_container_top])
spacing_right = widgets.VBox([fireworks_container_bottom, widgets.Label("", layout=widgets.Layout(height="50%"))])

# Add the GUI components to the container
container.children = [
    coin_toss_label,
    user_label,
    widgets.Label("", layout=widgets.Layout(height="20px")),
    user_entry,
    widgets.Label("", layout=widgets.Layout(height="20px")),
    play_button,
    widgets.Label("", layout=widgets.Layout(height="20px")),
    computer_label,
    widgets.Label("", layout=widgets.Layout(height="20px")),
    result_label,
    spacing_left,
    widgets.Label("", layout=widgets.Layout(width="50%")),
    spacing_right
]

# Center the container vertically
container.layout.align_items = 'center'

# Set the container width to be responsive
container.layout.width = '100%'

# Add CSS styling to set the background image and adjust the z-index
container.layout.display = 'flex'
container.add_class("background-layer")

# Update the background image
update_background()


# Add custom CSS for coin flip animation
coin_flip_css = """

.coin-flip-cutscene {
	display: flex;
	align-items: center;
	justify-content: center;
	-webkit-animation: flip-scale-up-hor 0.5s linear both;
	animation: flip-scale-up-hor 0.5s linear both;
}

.coin-choice {
	display: flex;
	align-items: center;
	justify-content: center;
}


@keyframes flip-scale-up-hor {
  0% {
    -webkit-transform: scale(1) rotateX(0);
            transform: scale(1) rotateX(0);
  }
  50% {
    -webkit-transform: scale(2.5) rotateX(-90deg);
            transform: scale(2.5) rotateX(-90deg);
  }
  100% {
    -webkit-transform: scale(1) rotateX(-360deg);
            transform: scale(1) rotateX(-360deg);
  }
}

"""

display(HTML(f"<style>{coin_flip_css}</style>"))
display(container)
